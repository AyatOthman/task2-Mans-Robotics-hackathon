{
 "cells": [
  {
   "cell_type": "markdown",
   "id": "dbce8ebb",
   "metadata": {},
   "source": [
    "1. How are iloc() and loc() different?\n",
    "using(iloc() to get the first and third row,loc() to get \n",
    "the first row)\n",
    "hint = student_dict = {'Name': ['Kate', 'Harry', 'Sheila'], \n",
    "'Age': [10, 14, 12], 'Marks': [85, 77, 91]}"
   ]
  },
  {
   "cell_type": "markdown",
   "id": "713dba56",
   "metadata": {},
   "source": [
    "    #1 : iloc[]: This is primarily integer-location based indexing.\n",
    "    It is used for selecting data by integer index position.\n",
    "    You can use integer indices to select rows and columns.\n",
    "\n",
    "    #2 : loc[]: This is label-based indexing.\n",
    "    It is used for selecting data by label (row and column names).\n",
    "    It is especially useful when your DataFrame has row and column labels \n",
    "    (e.g., row and column names or index labels)"
   ]
  },
  {
   "cell_type": "code",
   "execution_count": 4,
   "id": "7bac65e2",
   "metadata": {},
   "outputs": [],
   "source": [
    "import pandas as pd\n",
    "\n",
    "student_dict = {'Name': ['Kate', 'Harry', 'Sheila'],\n",
    "               'Age': [10, 14, 12],\n",
    "               'Marks': [85, 77, 91]}\n",
    "\n",
    "df = pd.DataFrame(student_dict)"
   ]
  },
  {
   "cell_type": "code",
   "execution_count": 7,
   "id": "5fcc6f18",
   "metadata": {},
   "outputs": [
    {
     "name": "stdout",
     "output_type": "stream",
     "text": [
      "     Name  Age  Marks\n",
      "0    Kate   10     85\n",
      "2  Sheila   12     91\n"
     ]
    }
   ],
   "source": [
    "first_and_third_row = df.iloc[[0, 2]]\n",
    "print(first_and_third_row)"
   ]
  },
  {
   "cell_type": "code",
   "execution_count": 8,
   "id": "e331df03",
   "metadata": {},
   "outputs": [
    {
     "name": "stdout",
     "output_type": "stream",
     "text": [
      "Name     Kate\n",
      "Age        10\n",
      "Marks      85\n",
      "Name: 0, dtype: object\n"
     ]
    }
   ],
   "source": [
    "first_row = df.loc[0]\n",
    "print(first_row)"
   ]
  },
  {
   "cell_type": "markdown",
   "id": "6a3ed7d6",
   "metadata": {},
   "source": [
    "2. set Index to a Pandas DataFrame on (Name)\n",
    "hint = student_dict = {'Name': ['Kate', 'Harry', 'Sheila'], \n",
    "'Age': [10, 11, 12], 'Marks': [85, 77, 91]}"
   ]
  },
  {
   "cell_type": "code",
   "execution_count": 11,
   "id": "3e06f797",
   "metadata": {},
   "outputs": [
    {
     "name": "stdout",
     "output_type": "stream",
     "text": [
      "        Age  Marks\n",
      "Name              \n",
      "Kate     10     85\n",
      "Harry    11     77\n",
      "Sheila   12     91\n"
     ]
    }
   ],
   "source": [
    "# Set the \"Name\" column as the index\n",
    "df = df.set_index(\"Name\")\n",
    "\n",
    "# Now, the \"Name\" column is the index of the DataFrame\n",
    "print(df)\n"
   ]
  },
  {
   "cell_type": "markdown",
   "id": "071887e1",
   "metadata": {},
   "source": [
    "3. . delete a row in Pandas DataFrame\n",
    "hint = student_dict = {'Name': ['Kate', 'Harry', 'Sheila'], \n",
    "'Age': [10, 11, 12], 'Marks': [85, 77, 91]}"
   ]
  },
  {
   "cell_type": "code",
   "execution_count": 13,
   "id": "9fda79b7",
   "metadata": {},
   "outputs": [
    {
     "name": "stdout",
     "output_type": "stream",
     "text": [
      "     Name  Age  Marks\n",
      "0    Kate   10     85\n",
      "2  Sheila   12     91\n"
     ]
    }
   ],
   "source": [
    "import pandas as pd\n",
    "\n",
    "student_dict = {'Name': ['Kate', 'Harry', 'Sheila'],\n",
    "               'Age': [10, 11, 12],\n",
    "               'Marks': [85, 77, 91]}\n",
    "\n",
    "# Create a DataFrame\n",
    "df = pd.DataFrame(student_dict)\n",
    "\n",
    "# Delete a row by specifying its index\n",
    "index_to_delete = 1  # This will delete the second row (index 1)\n",
    "\n",
    "df = df.drop(index_to_delete)\n",
    "\n",
    "# Now, the row with index 1 (Harry) is deleted\n",
    "print(df)\n"
   ]
  }
 ],
 "metadata": {
  "kernelspec": {
   "display_name": "Python 3 (ipykernel)",
   "language": "python",
   "name": "python3"
  },
  "language_info": {
   "codemirror_mode": {
    "name": "ipython",
    "version": 3
   },
   "file_extension": ".py",
   "mimetype": "text/x-python",
   "name": "python",
   "nbconvert_exporter": "python",
   "pygments_lexer": "ipython3",
   "version": "3.9.13"
  }
 },
 "nbformat": 4,
 "nbformat_minor": 5
}
